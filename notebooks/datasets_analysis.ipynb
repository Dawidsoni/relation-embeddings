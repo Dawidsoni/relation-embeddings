{
 "cells": [
  {
   "cell_type": "code",
   "execution_count": 1,
   "id": "simple-enterprise",
   "metadata": {},
   "outputs": [],
   "source": [
    "import os"
   ]
  },
  {
   "cell_type": "code",
   "execution_count": 2,
   "id": "shaped-brisbane",
   "metadata": {},
   "outputs": [],
   "source": [
    "%run common.ipynb"
   ]
  },
  {
   "cell_type": "code",
   "execution_count": 4,
   "id": "split-lying",
   "metadata": {},
   "outputs": [],
   "source": [
    "def explore_training_entities_counts(dataset_path):\n",
    "    samples_path = get_training_samples_path(dataset_path)\n",
    "    training_entities = load_entities_of_samples(samples_path)\n",
    "    print(f\"Training entities count: {len(training_entities)}\")    \n",
    "    training_samples = load_matching_samples(\n",
    "        samples_path, training_entities\n",
    "    )\n",
    "    print(f\"Training samples count: {len(training_samples)}\")\n",
    "\n",
    "    \n",
    "def compare_entities_counts_with_training_set(\n",
    "    dataset_path, samples_filename, dataset_name\n",
    "):\n",
    "    samples_path = os.path.join(dataset_path, samples_filename)\n",
    "    dataset_entities = load_entities_of_samples(samples_path)\n",
    "    print(f\"{dataset_name} entities count: {len(dataset_entities)}\")\n",
    "    dataset_samples = load_matching_samples(\n",
    "        samples_path, dataset_entities\n",
    "    )\n",
    "    print(f\"{dataset_name} samples count: {len(dataset_samples)}\")  \n",
    "    training_samples_path = get_training_samples_path(dataset_path)\n",
    "    training_entities = load_entities_of_samples(training_samples_path)\n",
    "    pure_dataset_entities = dataset_entities.difference(training_entities)    \n",
    "    print(\n",
    "        f\"{dataset_name} entities count (excluded training entities): \"\n",
    "        f\"{len(pure_dataset_entities)}, (example: \"\n",
    "        f\"{next(iter(pure_dataset_entities))})\"\n",
    "    )\n",
    "    pure_dataset_samples = load_matching_samples(\n",
    "        samples_path, pure_dataset_entities\n",
    "    )    \n",
    "    print(\n",
    "        f\"{dataset_name} samples count (excluded training entities): \"\n",
    "        f\"{len(pure_dataset_samples)} (example: \"\n",
    "        f\"{next(iter(pure_dataset_samples))})\"\n",
    "    )   \n",
    "\n",
    "\n",
    "def explore_entities_counts(dataset_path):\n",
    "    print(f\"Dataset path: '{dataset_path}'\")    \n",
    "    entities = load_entities_of_dataset(dataset_path)\n",
    "    print(f\"Total entities count: {len(entities)}\")\n",
    "    print()\n",
    "    explore_training_entities_counts(dataset_path)\n",
    "    print()\n",
    "    validation_samples_path = get_validation_samples_path(dataset_path)\n",
    "    compare_entities_counts_with_training_set(\n",
    "        dataset_path,\n",
    "        VALIDATION_DATASET_FILENAME,\n",
    "        dataset_name=\"Validation\",\n",
    "    )\n",
    "    print()\n",
    "    test_samples_path = os.path.join(\n",
    "        dataset_path, TEST_DATASET_FILENAME\n",
    "    )      \n",
    "    compare_entities_counts_with_training_set(\n",
    "        dataset_path,\n",
    "        TEST_DATASET_FILENAME,\n",
    "        dataset_name=\"Test\",\n",
    "    )"
   ]
  },
  {
   "cell_type": "markdown",
   "id": "minimal-moscow",
   "metadata": {},
   "source": [
    "## WN18RR"
   ]
  },
  {
   "cell_type": "code",
   "execution_count": 6,
   "id": "chinese-victory",
   "metadata": {},
   "outputs": [
    {
     "name": "stdout",
     "output_type": "stream",
     "text": [
      "Dataset path: '../data/WN18RR'\n",
      "Total entities count: 40943\n",
      "\n",
      "Training entities count: 40559\n",
      "Training samples count: 86835\n",
      "\n",
      "Validation entities count: 5173\n",
      "Validation samples count: 3034\n",
      "Validation entities count (excluded training entities): 198, (example: 10260706)\n",
      "Validation samples count (excluded training entities): 210 (example: ('08687525', '_instance_hypernym', '08685677'))\n",
      "\n",
      "Test entities count: 5323\n",
      "Test samples count: 3134\n",
      "Test entities count (excluded training entities): 209, (example: 00486557)\n",
      "Test samples count (excluded training entities): 210 (example: ('01831519', '_member_meronym', '01833283'))\n"
     ]
    }
   ],
   "source": [
    "explore_entities_counts(WN18RR_DATASET_PATH)"
   ]
  },
  {
   "cell_type": "code",
   "execution_count": 7,
   "id": "formal-pledge",
   "metadata": {},
   "outputs": [
    {
     "name": "stdout",
     "output_type": "stream",
     "text": [
      "Dataset path: '../data/WN18RR'\n",
      "Total relations count: 11\n",
      "Training relations count: 11\n",
      "Validation relations count: 11\n",
      "Test relations count: 11\n"
     ]
    }
   ],
   "source": [
    "explore_relations_counts(WN18RR_DATASET_PATH)"
   ]
  },
  {
   "cell_type": "markdown",
   "id": "arabic-swedish",
   "metadata": {},
   "source": [
    "## FB15K-237"
   ]
  },
  {
   "cell_type": "code",
   "execution_count": 8,
   "id": "mechanical-conviction",
   "metadata": {},
   "outputs": [
    {
     "name": "stdout",
     "output_type": "stream",
     "text": [
      "Dataset path: '../data/FB15K-237'\n",
      "Total entities count: 14541\n",
      "\n",
      "Training entities count: 14505\n",
      "Training samples count: 272115\n",
      "\n",
      "Validation entities count: 9809\n",
      "Validation samples count: 17535\n",
      "Validation entities count (excluded training entities): 8, (example: /m/01lk31)\n",
      "Validation samples count (excluded training entities): 9 (example: ('/m/01x4x4', '/common/topic/webpage./common/webpage/category', '/m/08mbj5d'))\n",
      "\n",
      "Test entities count: 10348\n",
      "Test samples count: 20466\n",
      "Test entities count (excluded training entities): 29, (example: /m/07hn5)\n",
      "Test samples count (excluded training entities): 28 (example: ('/m/02rxd26', '/time/event/instance_of_recurring_event', '/m/07hn5'))\n"
     ]
    }
   ],
   "source": [
    "explore_entities_counts(FB15K_DATASET_PATH)"
   ]
  },
  {
   "cell_type": "code",
   "execution_count": 9,
   "id": "suspended-mills",
   "metadata": {},
   "outputs": [
    {
     "name": "stdout",
     "output_type": "stream",
     "text": [
      "Dataset path: '../data/FB15K-237'\n",
      "Total relations count: 237\n",
      "Training relations count: 237\n",
      "Validation relations count: 223\n",
      "Test relations count: 224\n"
     ]
    }
   ],
   "source": [
    "explore_relations_counts(FB15K_DATASET_PATH)"
   ]
  }
 ],
 "metadata": {
  "kernelspec": {
   "display_name": "Python 3",
   "language": "python",
   "name": "python3"
  },
  "language_info": {
   "codemirror_mode": {
    "name": "ipython",
    "version": 3
   },
   "file_extension": ".py",
   "mimetype": "text/x-python",
   "name": "python",
   "nbconvert_exporter": "python",
   "pygments_lexer": "ipython3",
   "version": "3.7.3"
  }
 },
 "nbformat": 4,
 "nbformat_minor": 5
}
