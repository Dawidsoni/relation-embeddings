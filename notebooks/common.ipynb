{
 "cells": [
  {
   "cell_type": "code",
   "execution_count": 2,
   "id": "external-allen",
   "metadata": {},
   "outputs": [],
   "source": [
    "WN18RR_DATASET_PATH = \"../data/WN18RR\"\n",
    "FB15K_DATASET_PATH = \"../data/FB15K-237\"\n",
    "ENTITIES_FILENAME = \"entity2id.txt\"\n",
    "RELATIONS_FILENAME = \"relation2id.txt\"\n",
    "TRAINING_DATASET_FILENAME = \"train.txt\"\n",
    "VALIDATION_DATASET_FILENAME = \"valid.txt\"\n",
    "TEST_DATASET_FILENAME = \"test.txt\""
   ]
  },
  {
   "cell_type": "code",
   "execution_count": 3,
   "id": "split-navigation",
   "metadata": {},
   "outputs": [],
   "source": [
    "def get_entities_filename(dataset_path):\n",
    "    return os.path.join(dataset_path, ENTITIES_FILENAME)\n",
    "\n",
    "\n",
    "def get_relations_filename(dataset_path):\n",
    "    return os.path.join(dataset_path, RELATIONS_FILENAME)\n",
    "\n",
    "\n",
    "def get_training_samples_path(dataset_path):\n",
    "    return os.path.join(dataset_path, TRAINING_DATASET_FILENAME)\n",
    "\n",
    "\n",
    "def get_validation_samples_path(dataset_path):\n",
    "    return os.path.join(dataset_path, VALIDATION_DATASET_FILENAME)\n",
    "\n",
    "\n",
    "def get_test_samples_path(dataset_path):\n",
    "    return os.path.join(dataset_path, TEST_DATASET_FILENAME)"
   ]
  },
  {
   "cell_type": "code",
   "execution_count": 4,
   "id": "revised-location",
   "metadata": {},
   "outputs": [],
   "source": [
    "def load_entities_of_dataset(dataset_path):\n",
    "    entities_filename = get_entities_filename(dataset_path)\n",
    "    with open(entities_filename, mode=\"r\") as file_stream:\n",
    "        return {\n",
    "            line.strip().split(\"\\t\")[0]\n",
    "            for line in file_stream.readlines()\n",
    "        }\n",
    "\n",
    "    \n",
    "def load_entities_of_samples(samples_path):\n",
    "    with open(samples_path, mode=\"r\") as file_stream:\n",
    "        lines = list(file_stream.readlines())\n",
    "        head_entities = {line.strip().split(\"\\t\")[0] for line in lines}\n",
    "        tail_entities = {line.strip().split(\"\\t\")[2] for line in lines}\n",
    "        return head_entities.union(tail_entities)\n",
    "\n",
    "\n",
    "def load_matching_samples(samples_path, entities=None):\n",
    "    matching_samples = set()\n",
    "    with open(samples_path, mode=\"r\") as file_stream:\n",
    "        for line in file_stream.readlines():\n",
    "            sample = tuple(line.strip().split(\"\\t\"))\n",
    "            if entities is None:\n",
    "                matching_samples.add(sample)\n",
    "            elif head_entity in entities or tail_entity in entities:\n",
    "                matching_samples.add(sample)\n",
    "    return matching_samples"
   ]
  },
  {
   "cell_type": "code",
   "execution_count": 5,
   "id": "human-narrow",
   "metadata": {},
   "outputs": [],
   "source": [
    "def load_relations_of_dataset(dataset_path):\n",
    "    relations_filename = os.path.join(dataset_path, RELATIONS_FILENAME)\n",
    "    with open(relations_filename, mode=\"r\") as file_stream:\n",
    "        return {\n",
    "            line.strip().split(\"\\t\")[0]\n",
    "            for line in file_stream.readlines()\n",
    "        }\n",
    "\n",
    "\n",
    "def load_relations_of_samples(samples_path):\n",
    "    with open(samples_path, mode=\"r\") as file_stream:\n",
    "        return {\n",
    "            line.strip().split(\"\\t\")[1]\n",
    "            for line in file_stream.readlines()\n",
    "        }\n",
    "\n",
    "\n",
    "def explore_relations_counts(dataset_path):\n",
    "    print(f\"Dataset path: '{dataset_path}'\")    \n",
    "    relations = load_relations_of_dataset(dataset_path)\n",
    "    print(f\"Total relations count: {len(relations)}\")    \n",
    "    training_samples_path = get_training_samples_path(dataset_path)\n",
    "    training_relations = load_relations_of_samples(training_samples_path)\n",
    "    print(f\"Training relations count: {len(training_relations)}\")\n",
    "    validation_samples_path = get_validation_samples_path(dataset_path)\n",
    "    validation_relations = load_relations_of_samples(validation_samples_path)\n",
    "    print(f\"Validation relations count: {len(validation_relations)}\")    \n",
    "    test_samples_path = get_test_samples_path(dataset_path)\n",
    "    test_relations = load_relations_of_samples(test_samples_path)\n",
    "    print(f\"Test relations count: {len(test_relations)}\")"
   ]
  }
 ],
 "metadata": {
  "kernelspec": {
   "display_name": "Python 3",
   "language": "python",
   "name": "python3"
  },
  "language_info": {
   "codemirror_mode": {
    "name": "ipython",
    "version": 3
   },
   "file_extension": ".py",
   "mimetype": "text/x-python",
   "name": "python",
   "nbconvert_exporter": "python",
   "pygments_lexer": "ipython3",
   "version": "3.7.3"
  }
 },
 "nbformat": 4,
 "nbformat_minor": 5
}
